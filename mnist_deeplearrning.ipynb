{
  "nbformat": 4,
  "nbformat_minor": 0,
  "metadata": {
    "colab": {
      "name": "mnist deeplearrning.ipynb",
      "provenance": [],
      "collapsed_sections": []
    },
    "kernelspec": {
      "name": "python3",
      "display_name": "Python 3"
    }
  },
  "cells": [
    {
      "cell_type": "code",
      "metadata": {
        "id": "6xNzLdkOHPj3",
        "colab_type": "code",
        "colab": {
          "base_uri": "https://localhost:8080/",
          "height": 71
        },
        "outputId": "6a0ce97c-dd31-42c5-a53b-9abdbaf56a67"
      },
      "source": [
        "import pandas as pd\n",
        "import numpy as np\n",
        "import tensorflow as tf\n",
        "import matplotlib.pyplot as plt\n",
        "import seaborn as sns\n",
        "import tensorflow_datasets as tfds\n",
        "from tensorflow import keras"
      ],
      "execution_count": null,
      "outputs": [
        {
          "output_type": "stream",
          "text": [
            "/usr/local/lib/python3.6/dist-packages/statsmodels/tools/_testing.py:19: FutureWarning: pandas.util.testing is deprecated. Use the functions in the public API at pandas.testing instead.\n",
            "  import pandas.util.testing as tm\n"
          ],
          "name": "stderr"
        }
      ]
    },
    {
      "cell_type": "code",
      "metadata": {
        "id": "U7XTUPdJHZ3B",
        "colab_type": "code",
        "colab": {
          "base_uri": "https://localhost:8080/",
          "height": 153
        },
        "outputId": "9c6fe703-5e30-494e-aca1-3e5e32806b6e"
      },
      "source": [
        "fashion_mnist = keras.datasets.fashion_mnist\n",
        "\n",
        "(train_images, train_labels), (test_images, test_labels) = fashion_mnist.load_data()"
      ],
      "execution_count": null,
      "outputs": [
        {
          "output_type": "stream",
          "text": [
            "Downloading data from https://storage.googleapis.com/tensorflow/tf-keras-datasets/train-labels-idx1-ubyte.gz\n",
            "32768/29515 [=================================] - 0s 0us/step\n",
            "Downloading data from https://storage.googleapis.com/tensorflow/tf-keras-datasets/train-images-idx3-ubyte.gz\n",
            "26427392/26421880 [==============================] - 0s 0us/step\n",
            "Downloading data from https://storage.googleapis.com/tensorflow/tf-keras-datasets/t10k-labels-idx1-ubyte.gz\n",
            "8192/5148 [===============================================] - 0s 0us/step\n",
            "Downloading data from https://storage.googleapis.com/tensorflow/tf-keras-datasets/t10k-images-idx3-ubyte.gz\n",
            "4423680/4422102 [==============================] - 0s 0us/step\n"
          ],
          "name": "stdout"
        }
      ]
    },
    {
      "cell_type": "code",
      "metadata": {
        "id": "eh1LURvkIcyn",
        "colab_type": "code",
        "colab": {
          "base_uri": "https://localhost:8080/",
          "height": 34
        },
        "outputId": "24935158-de44-484e-fbe0-eec746e20a4c"
      },
      "source": [
        "train_images.shape"
      ],
      "execution_count": null,
      "outputs": [
        {
          "output_type": "execute_result",
          "data": {
            "text/plain": [
              "(60000, 28, 28)"
            ]
          },
          "metadata": {
            "tags": []
          },
          "execution_count": 3
        }
      ]
    },
    {
      "cell_type": "code",
      "metadata": {
        "id": "50NnF4zaIhMv",
        "colab_type": "code",
        "colab": {
          "base_uri": "https://localhost:8080/",
          "height": 850
        },
        "outputId": "6f8e9efc-7ee2-4fdd-e6f4-f0bdeb317fe9"
      },
      "source": [
        "pixels=np.array(train_images)\n",
        "pixels"
      ],
      "execution_count": null,
      "outputs": [
        {
          "output_type": "execute_result",
          "data": {
            "text/plain": [
              "array([[[0, 0, 0, ..., 0, 0, 0],\n",
              "        [0, 0, 0, ..., 0, 0, 0],\n",
              "        [0, 0, 0, ..., 0, 0, 0],\n",
              "        ...,\n",
              "        [0, 0, 0, ..., 0, 0, 0],\n",
              "        [0, 0, 0, ..., 0, 0, 0],\n",
              "        [0, 0, 0, ..., 0, 0, 0]],\n",
              "\n",
              "       [[0, 0, 0, ..., 0, 0, 0],\n",
              "        [0, 0, 0, ..., 0, 0, 0],\n",
              "        [0, 0, 0, ..., 0, 0, 0],\n",
              "        ...,\n",
              "        [0, 0, 0, ..., 0, 0, 0],\n",
              "        [0, 0, 0, ..., 0, 0, 0],\n",
              "        [0, 0, 0, ..., 0, 0, 0]],\n",
              "\n",
              "       [[0, 0, 0, ..., 0, 0, 0],\n",
              "        [0, 0, 0, ..., 0, 0, 0],\n",
              "        [0, 0, 0, ..., 0, 0, 0],\n",
              "        ...,\n",
              "        [0, 0, 0, ..., 0, 0, 0],\n",
              "        [0, 0, 0, ..., 0, 0, 0],\n",
              "        [0, 0, 0, ..., 0, 0, 0]],\n",
              "\n",
              "       ...,\n",
              "\n",
              "       [[0, 0, 0, ..., 0, 0, 0],\n",
              "        [0, 0, 0, ..., 0, 0, 0],\n",
              "        [0, 0, 0, ..., 0, 0, 0],\n",
              "        ...,\n",
              "        [0, 0, 0, ..., 0, 0, 0],\n",
              "        [0, 0, 0, ..., 0, 0, 0],\n",
              "        [0, 0, 0, ..., 0, 0, 0]],\n",
              "\n",
              "       [[0, 0, 0, ..., 0, 0, 0],\n",
              "        [0, 0, 0, ..., 0, 0, 0],\n",
              "        [0, 0, 0, ..., 0, 0, 0],\n",
              "        ...,\n",
              "        [0, 0, 0, ..., 0, 0, 0],\n",
              "        [0, 0, 0, ..., 0, 0, 0],\n",
              "        [0, 0, 0, ..., 0, 0, 0]],\n",
              "\n",
              "       [[0, 0, 0, ..., 0, 0, 0],\n",
              "        [0, 0, 0, ..., 0, 0, 0],\n",
              "        [0, 0, 0, ..., 0, 0, 0],\n",
              "        ...,\n",
              "        [0, 0, 0, ..., 0, 0, 0],\n",
              "        [0, 0, 0, ..., 0, 0, 0],\n",
              "        [0, 0, 0, ..., 0, 0, 0]]], dtype=uint8)"
            ]
          },
          "metadata": {
            "tags": []
          },
          "execution_count": 4
        }
      ]
    },
    {
      "cell_type": "code",
      "metadata": {
        "id": "7ZVYqB4cNOiZ",
        "colab_type": "code",
        "colab": {
          "base_uri": "https://localhost:8080/",
          "height": 34
        },
        "outputId": "8b1ac34b-e293-41d7-f580-ecc7c42aa536"
      },
      "source": [
        "pixels.max()"
      ],
      "execution_count": null,
      "outputs": [
        {
          "output_type": "execute_result",
          "data": {
            "text/plain": [
              "255"
            ]
          },
          "metadata": {
            "tags": []
          },
          "execution_count": 5
        }
      ]
    },
    {
      "cell_type": "code",
      "metadata": {
        "id": "_wUiLQmUNRau",
        "colab_type": "code",
        "colab": {}
      },
      "source": [
        "train_data=train_images/255  ##Scaling the features\n",
        "test_data=test_images/255"
      ],
      "execution_count": null,
      "outputs": []
    },
    {
      "cell_type": "code",
      "metadata": {
        "id": "C6Glc8cyOIGB",
        "colab_type": "code",
        "colab": {}
      },
      "source": [
        "model = keras.Sequential([\n",
        "    keras.layers.Flatten(input_shape=(28, 28)),  #Pixel size of each picture as input\n",
        "    keras.layers.Dense(300, activation='relu'),  #Hidden layer 1\n",
        "    keras.layers.Dense(150, activation='softmax'),  #Hidden layer 2\n",
        "    keras.layers.Dense(10)                       #Output layer\n",
        "])\n",
        "\n",
        "model.compile(optimizer='adam',\n",
        "              loss=tf.keras.losses.SparseCategoricalCrossentropy(from_logits=True),\n",
        "              metrics=['accuracy'])"
      ],
      "execution_count": null,
      "outputs": []
    },
    {
      "cell_type": "code",
      "metadata": {
        "id": "u_tZ0-etO9zh",
        "colab_type": "code",
        "colab": {
          "base_uri": "https://localhost:8080/",
          "height": 544
        },
        "outputId": "dae7bd45-6648-4bc5-f7ec-8b9e8b19fd20"
      },
      "source": [
        "model.fit(train_data, train_labels, epochs=15, validation_split=0.15)"
      ],
      "execution_count": null,
      "outputs": [
        {
          "output_type": "stream",
          "text": [
            "Epoch 1/15\n",
            "1594/1594 [==============================] - 7s 4ms/step - loss: 1.4951 - accuracy: 0.6159 - val_loss: 1.0462 - val_accuracy: 0.6518\n",
            "Epoch 2/15\n",
            "1594/1594 [==============================] - 7s 4ms/step - loss: 0.9106 - accuracy: 0.6611 - val_loss: 0.8165 - val_accuracy: 0.6663\n",
            "Epoch 3/15\n",
            "1594/1594 [==============================] - 7s 4ms/step - loss: 0.7549 - accuracy: 0.6835 - val_loss: 0.7092 - val_accuracy: 0.7076\n",
            "Epoch 4/15\n",
            "1594/1594 [==============================] - 7s 4ms/step - loss: 0.6494 - accuracy: 0.7601 - val_loss: 0.6092 - val_accuracy: 0.7856\n",
            "Epoch 5/15\n",
            "1594/1594 [==============================] - 7s 4ms/step - loss: 0.5589 - accuracy: 0.8070 - val_loss: 0.5536 - val_accuracy: 0.8146\n",
            "Epoch 6/15\n",
            "1594/1594 [==============================] - 7s 4ms/step - loss: 0.5017 - accuracy: 0.8286 - val_loss: 0.5084 - val_accuracy: 0.8399\n",
            "Epoch 7/15\n",
            "1594/1594 [==============================] - 7s 4ms/step - loss: 0.4650 - accuracy: 0.8388 - val_loss: 0.4961 - val_accuracy: 0.8374\n",
            "Epoch 8/15\n",
            "1594/1594 [==============================] - 7s 4ms/step - loss: 0.4373 - accuracy: 0.8471 - val_loss: 0.4662 - val_accuracy: 0.8449\n",
            "Epoch 9/15\n",
            "1594/1594 [==============================] - 7s 4ms/step - loss: 0.4105 - accuracy: 0.8607 - val_loss: 0.4347 - val_accuracy: 0.8640\n",
            "Epoch 10/15\n",
            "1594/1594 [==============================] - 7s 4ms/step - loss: 0.3786 - accuracy: 0.8798 - val_loss: 0.4271 - val_accuracy: 0.8659\n",
            "Epoch 11/15\n",
            "1594/1594 [==============================] - 8s 5ms/step - loss: 0.3542 - accuracy: 0.8883 - val_loss: 0.4078 - val_accuracy: 0.8701\n",
            "Epoch 12/15\n",
            "1594/1594 [==============================] - 7s 4ms/step - loss: 0.3346 - accuracy: 0.8935 - val_loss: 0.4197 - val_accuracy: 0.8677\n",
            "Epoch 13/15\n",
            "1594/1594 [==============================] - 7s 4ms/step - loss: 0.3239 - accuracy: 0.8967 - val_loss: 0.3923 - val_accuracy: 0.8736\n",
            "Epoch 14/15\n",
            "1594/1594 [==============================] - 7s 4ms/step - loss: 0.3074 - accuracy: 0.9017 - val_loss: 0.3699 - val_accuracy: 0.8838\n",
            "Epoch 15/15\n",
            "1594/1594 [==============================] - 7s 4ms/step - loss: 0.2996 - accuracy: 0.9036 - val_loss: 0.4044 - val_accuracy: 0.8720\n"
          ],
          "name": "stdout"
        },
        {
          "output_type": "execute_result",
          "data": {
            "text/plain": [
              "<tensorflow.python.keras.callbacks.History at 0x7fc3a1b15908>"
            ]
          },
          "metadata": {
            "tags": []
          },
          "execution_count": 8
        }
      ]
    },
    {
      "cell_type": "code",
      "metadata": {
        "id": "58hnudfqPUZp",
        "colab_type": "code",
        "colab": {
          "base_uri": "https://localhost:8080/",
          "height": 34
        },
        "outputId": "607c62fa-324d-47c3-b17f-0028663d478e"
      },
      "source": [
        "test_loss, test_acc=model.evaluate(test_data, test_labels)"
      ],
      "execution_count": null,
      "outputs": [
        {
          "output_type": "stream",
          "text": [
            "313/313 [==============================] - 1s 2ms/step - loss: 0.4352 - accuracy: 0.8602\n"
          ],
          "name": "stdout"
        }
      ]
    },
    {
      "cell_type": "code",
      "metadata": {
        "id": "A6BSIVKDakuz",
        "colab_type": "code",
        "colab": {}
      },
      "source": [
        ""
      ],
      "execution_count": null,
      "outputs": []
    },
    {
      "cell_type": "code",
      "metadata": {
        "id": "KGdKEtGvbF-0",
        "colab_type": "code",
        "colab": {}
      },
      "source": [
        "predictions=model.predict(test_data)"
      ],
      "execution_count": null,
      "outputs": []
    },
    {
      "cell_type": "code",
      "metadata": {
        "id": "r1iwQ6t8bKyF",
        "colab_type": "code",
        "colab": {
          "base_uri": "https://localhost:8080/",
          "height": 238
        },
        "outputId": "b91389a3-368e-4c06-b423-c573a4eaf514"
      },
      "source": [
        "predictions"
      ],
      "execution_count": null,
      "outputs": [
        {
          "output_type": "execute_result",
          "data": {
            "text/plain": [
              "array([[ -5.7565265,  -5.6776123,  -5.3667665, ...,  -0.702315 ,\n",
              "         -4.962289 ,   4.2393665],\n",
              "       [ -6.464647 , -11.232096 ,   4.44121  , ...,  -9.121806 ,\n",
              "         -4.3825607,  -8.604995 ],\n",
              "       [ -8.60385  ,   6.4406886,  -8.405236 , ...,  -7.989578 ,\n",
              "         -5.125112 ,  -7.588269 ],\n",
              "       ...,\n",
              "       [ -1.8046857,  -5.4962893,  -2.8328192, ...,  -2.7767184,\n",
              "          5.0975137,  -3.7474742],\n",
              "       [ -8.603036 ,   6.4379444,  -8.40368  , ...,  -7.9893575,\n",
              "         -5.1247597,  -7.588111 ],\n",
              "       [ -4.318435 ,  -5.297908 ,  -4.041876 , ...,  -1.7183414,\n",
              "         -3.7237513,  -2.4356406]], dtype=float32)"
            ]
          },
          "metadata": {
            "tags": []
          },
          "execution_count": 11
        }
      ]
    },
    {
      "cell_type": "code",
      "metadata": {
        "id": "VFuise0YKBDg",
        "colab_type": "code",
        "colab": {}
      },
      "source": [
        "class_names = ['T-shirt/top', 'Trouser', 'Pullover', 'Dress', 'Coat',\n",
        "               'Sandal', 'Shirt', 'Sneaker', 'Bag', 'Ankle boot']"
      ],
      "execution_count": null,
      "outputs": []
    },
    {
      "cell_type": "code",
      "metadata": {
        "id": "npHJBEYhbMCW",
        "colab_type": "code",
        "colab": {
          "base_uri": "https://localhost:8080/",
          "height": 35
        },
        "outputId": "c7ebdc16-0d85-4d59-8163-0a15a160ad63"
      },
      "source": [
        "class_names[np.argmax(predictions[0])] #prediction"
      ],
      "execution_count": null,
      "outputs": [
        {
          "output_type": "execute_result",
          "data": {
            "application/vnd.google.colaboratory.intrinsic": {
              "type": "string"
            },
            "text/plain": [
              "'Ankle boot'"
            ]
          },
          "metadata": {
            "tags": []
          },
          "execution_count": 13
        }
      ]
    },
    {
      "cell_type": "code",
      "metadata": {
        "id": "Htb_mmPJJFy7",
        "colab_type": "code",
        "colab": {
          "base_uri": "https://localhost:8080/",
          "height": 282
        },
        "outputId": "e8e7da8d-d27e-4e57-9bf8-5fd1d43a2981"
      },
      "source": [
        "plt.imshow(test_data[0])"
      ],
      "execution_count": null,
      "outputs": [
        {
          "output_type": "execute_result",
          "data": {
            "text/plain": [
              "<matplotlib.image.AxesImage at 0x7fc39d38ecf8>"
            ]
          },
          "metadata": {
            "tags": []
          },
          "execution_count": 14
        },
        {
          "output_type": "display_data",
          "data": {
            "image/png": "[encoded data removed]",
            "text/plain": [
              "<Figure size 432x288 with 1 Axes>"
            ]
          },
          "metadata": {
            "tags": [],
            "needs_background": "light"
          }
        }
      ]
    },
    {
      "cell_type": "code",
      "metadata": {
        "id": "Yfg0BqS3bRh2",
        "colab_type": "code",
        "colab": {}
      },
      "source": [
        "class_names = ['T-shirt/top', 'Trouser', 'Pullover', 'Dress', 'Coat',\n",
        "               'Sandal', 'Shirt', 'Sneaker', 'Bag', 'Ankle boot']"
      ],
      "execution_count": null,
      "outputs": []
    },
    {
      "cell_type": "code",
      "metadata": {
        "id": "Q3p0j5fubseh",
        "colab_type": "code",
        "colab": {
          "base_uri": "https://localhost:8080/",
          "height": 640
        },
        "outputId": "1a777e51-631c-4176-853f-2d0faffc5f7e"
      },
      "source": [
        "plt.figure(figsize=(12,12))\n",
        "for i in range(12):\n",
        "  plt.subplot(3,4,i+1)\n",
        "  plt.xticks([]),\n",
        "  plt.yticks([]),\n",
        "  plt.imshow(test_data[i])\n",
        "plt.show()"
      ],
      "execution_count": null,
      "outputs": [
        {
          "output_type": "display_data",
          "data": {
            "image/png": "[encoded data removed]",
            "text/plain": [
              "<Figure size 864x864 with 12 Axes>"
            ]
          },
          "metadata": {
            "tags": []
          }
        }
      ]
    },
    {
      "cell_type": "code",
      "metadata": {
        "id": "-P7-yrNVdypz",
        "colab_type": "code",
        "colab": {}
      },
      "source": [
        ""
      ],
      "execution_count": null,
      "outputs": []
    }
  ]
}